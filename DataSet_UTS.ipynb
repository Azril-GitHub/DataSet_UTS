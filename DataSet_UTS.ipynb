{
 "cells": [
  {
   "cell_type": "code",
   "execution_count": 9,
   "id": "cf7f8dfc-94ca-4398-b5a3-d82a51922c48",
   "metadata": {},
   "outputs": [],
   "source": [
    "import pandas as pd\n",
    "\n",
    "#create dataframe dari data yang diberikan\n",
    "data = {\n",
    "    'Hari' : ['senin', 'selasa', 'rabu', 'kamis', 'jumat', 'sabtu', 'minggu'],\n",
    "    'Datang' : [2, 3, 4, 1, 2, 5, 2],\n",
    "    'Biaya' : [30000, 35000, 25000, 15000, 20000, 30000, 35000],\n",
    "    'Nama_Mahasiswa' : ['Ani', 'Budi', 'Jono', 'Lono', 'Joni', 'Ani', 'Budi']\n",
    "}\n",
    "\n",
    "df = pd.DataFrame(data)"
   ]
  },
  {
   "cell_type": "code",
   "execution_count": 10,
   "id": "a0fed691-fadb-4fd1-8d5b-b59d3ff0f070",
   "metadata": {},
   "outputs": [
    {
     "name": "stdout",
     "output_type": "stream",
     "text": [
      "Rata-rata mahasiswa datang pada minggu ini: 2.7142857142857144\n"
     ]
    }
   ],
   "source": [
    "# a) Berapa rata-rata mahasiswa datang pada minggu ini?\n",
    "rata_rata_datang = df['Datang'].mean()\n",
    "print(f\"Rata-rata mahasiswa datang pada minggu ini: {rata_rata_datang}\")"
   ]
  },
  {
   "cell_type": "code",
   "execution_count": 11,
   "id": "ab6495fd-6134-427d-844d-c5ef7e6a1d8e",
   "metadata": {},
   "outputs": [
    {
     "name": "stdout",
     "output_type": "stream",
     "text": [
      "Biaya tertinggi terjadi pada hari: selasa\n"
     ]
    }
   ],
   "source": [
    "# b) Kapan biaya tertinggi terjadi?\n",
    "biaya_tertinggi_hari = df.loc[df['Biaya'].idxmax(), 'Hari']\n",
    "print(f\"Biaya tertinggi terjadi pada hari: {biaya_tertinggi_hari}\")"
   ]
  },
  {
   "cell_type": "code",
   "execution_count": 12,
   "id": "adb9584d-0ab8-4f9e-8257-52e38e75e60f",
   "metadata": {},
   "outputs": [
    {
     "name": "stdout",
     "output_type": "stream",
     "text": [
      "Hari apa biaya lebih dari 110000: []\n"
     ]
    }
   ],
   "source": [
    "# c) Hari apa biaya lebih dari 110000?\n",
    "total_biaya_per_hari = df.groupby('Hari')['Biaya'].sum()\n",
    "hari_biaya_lebih_110k = total_biaya_per_hari[total_biaya_per_hari > 110000].index.tolist()\n",
    "print(f\"Hari apa biaya lebih dari 110000: {hari_biaya_lebih_110k}\")"
   ]
  },
  {
   "cell_type": "code",
   "execution_count": 13,
   "id": "aa7dcf1d-2f04-4eca-96ef-80d03190114f",
   "metadata": {},
   "outputs": [
    {
     "name": "stdout",
     "output_type": "stream",
     "text": [
      "Siapa yang paling banyak datang ke kampus: Ani\n"
     ]
    }
   ],
   "source": [
    "# d) Siapa yang paling banyak datang ke kampus?\n",
    "total_datang_per_mahasiswa = df.groupby('Nama_Mahasiswa')['Datang'].sum()\n",
    "mahasiswa_terbanyak_datang = total_datang_per_mahasiswa.idxmax()\n",
    "print(f\"Siapa yang paling banyak datang ke kampus: {mahasiswa_terbanyak_datang}\")"
   ]
  },
  {
   "cell_type": "code",
   "execution_count": 20,
   "id": "679762bc-a492-45fc-a19c-5c6b1429958b",
   "metadata": {},
   "outputs": [
    {
     "name": "stdout",
     "output_type": "stream",
     "text": [
      "Siapa yang datang pada hari minggu: Tidak ada data\n"
     ]
    }
   ],
   "source": [
    "# e) Siapa yang datang pada hari minggu?\n",
    "mahasiswa_hari_minggu = df.loc[df['Hari'] == 'Minggu', 'Nama_Mahasiswa']\n",
    "if not mahasiswa_hari_minggu.empty:\n",
    "    mahasiswa_hari_minggu = mahasiswa_hari_minggu.values[0]\n",
    "else:\n",
    "    mahasiswa_hari_minggu = \"Tidak ada data\"\n",
    "print(f\"Siapa yang datang pada hari minggu: {mahasiswa_hari_minggu}\")"
   ]
  },
  {
   "cell_type": "code",
   "execution_count": 18,
   "id": "c1580c4d-adc2-45ba-a730-a3640ffe1659",
   "metadata": {},
   "outputs": [
    {
     "name": "stdout",
     "output_type": "stream",
     "text": [
      "Biaya tertinggi: 35000, Biaya terendah: 15000\n"
     ]
    }
   ],
   "source": [
    "# f) Berapa biaya tertinggi dan terendah?\n",
    "biaya_tertinggi = df['Biaya'].max()\n",
    "biaya_terendah = df['Biaya'].min()\n",
    "print(f\"Biaya tertinggi: {biaya_tertinggi}, Biaya terendah: {biaya_terendah}\")"
   ]
  },
  {
   "cell_type": "code",
   "execution_count": 19,
   "id": "a5d67270-7927-4555-ac51-0dfe65221702",
   "metadata": {},
   "outputs": [
    {
     "name": "stdout",
     "output_type": "stream",
     "text": [
      "Frekuensi datang tertinggi: 5, Frekuensi datang terendah: 1\n"
     ]
    }
   ],
   "source": [
    "# g) Berapa frekuensi datang tertinggi dan terendah?\n",
    "frekuensi_datang_tertinggi = df['Datang'].max()\n",
    "frekuensi_datang_terendah = df['Datang'].min()\n",
    "print(f\"Frekuensi datang tertinggi: {frekuensi_datang_tertinggi}, Frekuensi datang terendah: {frekuensi_datang_terendah}\")"
   ]
  }
 ],
 "metadata": {
  "kernelspec": {
   "display_name": "Python 3 (ipykernel)",
   "language": "python",
   "name": "python3"
  },
  "language_info": {
   "codemirror_mode": {
    "name": "ipython",
    "version": 3
   },
   "file_extension": ".py",
   "mimetype": "text/x-python",
   "name": "python",
   "nbconvert_exporter": "python",
   "pygments_lexer": "ipython3",
   "version": "3.10.6"
  }
 },
 "nbformat": 4,
 "nbformat_minor": 5
}
