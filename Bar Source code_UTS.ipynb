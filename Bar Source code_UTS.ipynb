{
 "cells": [
  {
   "cell_type": "code",
   "execution_count": 6,
   "id": "e6fcb384-e4b3-4797-b829-7d831b36bd65",
   "metadata": {},
   "outputs": [
    {
     "ename": "SyntaxError",
     "evalue": "invalid syntax (255012702.py, line 19)",
     "output_type": "error",
     "traceback": [
      "\u001b[0;36m  Cell \u001b[0;32mIn [6], line 19\u001b[0;36m\u001b[0m\n\u001b[0;31m    gambar <- ggplot(info_mahasiswa, aes(x=fakultas, y=jumlah_mahasiswa, fill=fakultas)) +\u001b[0m\n\u001b[0m                                                                                          ^\u001b[0m\n\u001b[0;31mSyntaxError\u001b[0m\u001b[0;31m:\u001b[0m invalid syntax\n"
     ]
    }
   ],
   "source": [
    "# Load rpy2 extension\n",
    "%load_ext rpy2.ipython\n",
    "\n",
    "# Menjalankan kode R dalam sel Jupyter Notebook\n",
    "%%R\n",
    "# Memasukkan library yang dibutuhkan\n",
    "library(ggplot2)\n",
    "\n",
    "# Membuat data frame info_mahasiswa\n",
    "fakultas <- c(\"Bisnis\", \"D3 Perhotelan\", \"ICT\", \"Ilmu Komunikasi\", \"Seni dan Desain\")\n",
    "jumlah_mahasiswa <- c(260, 28, 284, 465, 735)\n",
    "akreditasi <- c(\"A\", \"A\", \"B\", \"A\", \"A\")\n",
    "info_mahasiswa <- data.frame(fakultas, jumlah_mahasiswa, akreditasi)\n",
    "\n",
    "# Menampilkan data frame\n",
    "print(info_mahasiswa)\n",
    "\n",
    "# Membuat grafik batang menggunakan ggplot2\n",
    "gambar <- ggplot(info_mahasiswa, aes(x=fakultas, y=jumlah_mahasiswa, fill=fakultas)) +\n",
    "  geom_bar(width=0.7, stat=\"identity\") +\n",
    "  labs(title=\"Jumlah Mahasiswa per Fakultas\", x=\"Fakultas\", y=\"Jumlah Mahasiswa\") +\n",
    "  theme_minimal() +\n",
    "  theme(axis.text.x = element_text(angle=45, hjust=1)) +\n",
    "  geom_text(aes(label=jumlah_mahasiswa), vjust=-0.5, color=\"black\", size=3.5)\n",
    "\n",
    "# Menampilkan grafik\n",
    "print(gambar)\n"
   ]
  },
  {
   "cell_type": "code",
   "execution_count": null,
   "id": "81fb19bd-b48a-4a4c-b45a-76090e5b325d",
   "metadata": {},
   "outputs": [],
   "source": []
  }
 ],
 "metadata": {
  "kernelspec": {
   "display_name": "Python 3 (ipykernel)",
   "language": "python",
   "name": "python3"
  },
  "language_info": {
   "codemirror_mode": {
    "name": "ipython",
    "version": 3
   },
   "file_extension": ".py",
   "mimetype": "text/x-python",
   "name": "python",
   "nbconvert_exporter": "python",
   "pygments_lexer": "ipython3",
   "version": "3.10.6"
  }
 },
 "nbformat": 4,
 "nbformat_minor": 5
}
